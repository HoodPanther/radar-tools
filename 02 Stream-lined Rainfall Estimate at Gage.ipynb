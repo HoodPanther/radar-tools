{
 "cells": [
  {
   "cell_type": "markdown",
   "metadata": {},
   "source": [
    "# Roadmap\n",
    "\n",
    "The goal of this notebook is to provide an example of how to scrape NEXRAD level II data and use pyart and csu_radar_tools to calculate radar rainfall estimates at rain gage locations during a storm. Inspiration from the discussion [here](https://groups.google.com/forum/#!msg/pyart-users/dxw0Mm7-SzI/iRI3-yXxDQAJ)\n",
    "\n",
    "  1. Genarate mock rain gage data\n",
    "  2. Find available NEXRAD data\n",
    "  2. Download NEXRAD data\n",
    "  4. Mask bad data\n",
    "  5. Download sounding data\n",
    "  6. Classify hydrometeors\n",
    "  7. Compute rainfall estimate\n",
    "  8. Interpolate radially\n",
    "  9. Pull out rainfall estimates at gage locations"
   ]
  },
  {
   "cell_type": "markdown",
   "metadata": {},
   "source": [
    "Before getting started, set up your environment with all the necessities to run this notebook. To create this environment just run **`$ conda env create -f environment.yml`** where **`environment.yml`** is a file containing the following:"
   ]
  },
  {
   "cell_type": "code",
   "execution_count": 18,
   "metadata": {
    "collapsed": false
   },
   "outputs": [
    {
     "name": "stdout",
     "output_type": "stream",
     "text": [
      "name: radar\r\n",
      "channels:\r\n",
      "- conda-forge\r\n",
      "- defaults\r\n",
      "dependencies:\r\n",
      "- python=2.7\r\n",
      "- arm_pyart\r\n",
      "- basemap\r\n",
      "- basemap-data-hires\r\n",
      "- matplotlib\r\n",
      "- jupyter\r\n",
      "- pandas\r\n",
      "- numpy\r\n",
      "- cython\r\n",
      "- wget\r\n",
      "- lxml\r\n",
      "- pyproj\r\n",
      "- pip:\r\n",
      "  - skewt\r\n",
      "  - git+git://github.com/CSU-Radarmet/CSU_RadarTools.git\r\n"
     ]
    }
   ],
   "source": [
    "!cat environment.yml"
   ]
  },
  {
   "cell_type": "markdown",
   "metadata": {},
   "source": [
    "## Mock rain gage data"
   ]
  },
  {
   "cell_type": "code",
   "execution_count": 2,
   "metadata": {
    "collapsed": true
   },
   "outputs": [],
   "source": [
    "import numpy as np\n",
    "import pandas as pd\n",
    "import xarray as xr"
   ]
  },
  {
   "cell_type": "code",
   "execution_count": 3,
   "metadata": {
    "collapsed": true
   },
   "outputs": [],
   "source": [
    "ID='KTLH'\n",
    "latitude = 30.39758301\n",
    "longitude = -84.32894135\n",
    "\n",
    "year=2016\n",
    "month=9\n",
    "day=2\n",
    "hour=2\n",
    "\n",
    "t_start = '2016-09-02 02:00'\n",
    "t_end = '2016-09-02 04:00'"
   ]
  },
  {
   "cell_type": "code",
   "execution_count": 4,
   "metadata": {
    "collapsed": false
   },
   "outputs": [
    {
     "name": "stdout",
     "output_type": "stream",
     "text": [
      "<xarray.Dataset>\n",
      "Dimensions:                 (station: 50, time: 10)\n",
      "Coordinates:\n",
      "  * time                    (time) datetime64[ns] 2016-09-02T02:00:00 ...\n",
      "  * station                 (station) |S3 'G1' 'G2' 'G3' 'G4' 'G5' 'G6' 'G7' ...\n",
      "    lat                     (station) float64 31.84 31.54 31.93 31.7 31.74 ...\n",
      "    lon                     (station) float64 -84.19 -82.41 -82.68 -84.24 ...\n",
      "Data variables:\n",
      "    rain_gage_accumulation  (station, time) float64 0.0 0.0 0.0 0.0 0.0 0.0 ...\n",
      "CPU times: user 24.6 ms, sys: 154 µs, total: 24.8 ms\n",
      "Wall time: 42.2 ms\n"
     ]
    }
   ],
   "source": [
    "%%time\n",
    "\n",
    "netcdf=True\n",
    "\n",
    "gage_times = pd.date_range(pd.datetime(year, month, day, hour), freq='15min', periods=10, tz='UTC')\n",
    "gage_locs = np.random.rand(50,2)*2+ np.array([latitude, longitude])\n",
    "gage_data = np.zeros((gage_times.shape[0], gage_locs.shape[0]))\n",
    "gage_names = ['G'+str(i) for i in range(1, gage_locs.shape[0]+1)]\n",
    "\n",
    "gage_df_data = pd.DataFrame(index=gage_times, data=gage_data, columns=gage_names)\n",
    "gage_df_locs = pd.DataFrame(index=gage_names, data=gage_locs, columns=['lat', 'lon'])\n",
    "\n",
    "if not netcdf:\n",
    "    gage_df = pd.concat([gage_df_locs, gage_df_data.T], axis=1)\n",
    "    gage_df.head()\n",
    "\n",
    "def to_da(i, name, gage_data, gage_times):\n",
    "    return xr.DataArray(gage_data[:,i], name=name, dims={'time': gage_times.shape},\n",
    "                        coords={'time': gage_times.astype('datetime64[ns]'), 'station':name})\n",
    "\n",
    "datasets = [to_da(i, name, gage_data, gage_times) for i, name in enumerate(gage_names)]\n",
    "combined = xr.concat(datasets, 'station')\n",
    "ds0 = combined.to_dataset(name='rain_gage_accumulation')\n",
    "\n",
    "gage_df_locs.index.name='station'\n",
    "ds_gage = ds0.merge(xr.Dataset(gage_df_locs))\n",
    "ds_gage.set_coords(['lat', 'lon'], inplace=True)\n",
    "print(ds_gage)"
   ]
  },
  {
   "cell_type": "markdown",
   "metadata": {},
   "source": [
    "## Find Available Data\n",
    "\n",
    "First we will see what data are available for the date and site that we are interested in. "
   ]
  },
  {
   "cell_type": "code",
   "execution_count": 5,
   "metadata": {
    "collapsed": false
   },
   "outputs": [
    {
     "name": "stdout",
     "output_type": "stream",
     "text": [
      "http://www.ncdc.noaa.gov/nexradinv/bdp-download.jsp?id=KTLH&yyyy=2016&mm=09&dd=02&product=AAL2\n"
     ]
    }
   ],
   "source": [
    "Y = '{Y:04d}'.format(Y=year)\n",
    "M = '{M:02d}'.format(M=month)\n",
    "D = '{D:02d}'.format(D=day)\n",
    "\n",
    "url = 'http://www.ncdc.noaa.gov/nexradinv/bdp-download.jsp?id={ID}&yyyy={Y}&mm={M}&dd={D}&product=AAL2'.format(\n",
    "       ID=ID, Y=Y, M=M, D=D)\n",
    "print(url)"
   ]
  },
  {
   "cell_type": "code",
   "execution_count": 6,
   "metadata": {
    "collapsed": false
   },
   "outputs": [
    {
     "name": "stdout",
     "output_type": "stream",
     "text": [
      "CPU times: user 24.1 ms, sys: 6.8 ms, total: 30.9 ms\n",
      "Wall time: 1.16 s\n"
     ]
    }
   ],
   "source": [
    "%%time\n",
    "from lxml.html import parse\n",
    "import re\n",
    "\n",
    "page = parse(url)\n",
    "pattern = re.compile(\"[A-Z]{4}([0-9]{8})_([0-9]{6})*\")\n",
    "\n",
    "data_urls = []\n",
    "filenames = []\n",
    "times = []\n",
    "\n",
    "for el in page.xpath(\"//div[@class='bdpLink']\"):\n",
    "    data_url = el.find(\"a\").get(\"href\")\n",
    "    filename = data_url.split('/')[-1]\n",
    "    if not pattern.search(filename):\n",
    "        continue\n",
    "    time = pd.Timestamp(filename[4:19].replace('_', ' '))\n",
    "    data_urls.append(data_url)\n",
    "    filenames.append(filename)\n",
    "    times.append(time)\n",
    "times = pd.DatetimeIndex(times)"
   ]
  },
  {
   "cell_type": "code",
   "execution_count": 7,
   "metadata": {
    "collapsed": true
   },
   "outputs": [],
   "source": [
    "t0 = times.asof(pd.Timestamp(t_start))\n",
    "tn = times.asof(pd.Timestamp(t_end))\n",
    "\n",
    "data_urls = data_urls[times.get_loc(t0): times.get_loc(tn)]\n",
    "filenames = filenames[times.get_loc(t0): times.get_loc(tn)]\n",
    "\n",
    "nscans = len(filenames)"
   ]
  },
  {
   "cell_type": "markdown",
   "metadata": {},
   "source": [
    "## Download Data\n",
    "\n",
    "Now that you have a valid data_url, all that is left is downloading the data."
   ]
  },
  {
   "cell_type": "code",
   "execution_count": 8,
   "metadata": {
    "collapsed": false
   },
   "outputs": [
    {
     "name": "stdout",
     "output_type": "stream",
     "text": [
      "CPU times: user 2 µs, sys: 2 µs, total: 4 µs\n",
      "Wall time: 5.96 µs\n"
     ]
    }
   ],
   "source": [
    "%%time\n",
    "\n",
    "def get_datafile(data_url, filename, cache='./tmp/'):\n",
    "    import os\n",
    "    import wget\n",
    "\n",
    "    if not os.path.isdir(cache):\n",
    "        os.mkdir(cache)\n",
    "\n",
    "    if os.path.isfile(cache+filename):\n",
    "        print('using cached file ...')\n",
    "        path_to_file = cache+filename\n",
    "    else:\n",
    "        print('downloading file ...')\n",
    "        path_to_file = wget.download(data_url, out=cache+filename)\n",
    "    print(path_to_file)\n",
    "    return path_to_file"
   ]
  },
  {
   "cell_type": "code",
   "execution_count": 9,
   "metadata": {
    "collapsed": false
   },
   "outputs": [
    {
     "name": "stdout",
     "output_type": "stream",
     "text": [
      "using cached file ...\n",
      "./tmp/KTLH20160902_015528_V06\n",
      "using cached file ...\n",
      "./tmp/KTLH20160902_020138_V06\n",
      "using cached file ...\n",
      "./tmp/KTLH20160902_020748_V06\n",
      "using cached file ...\n",
      "./tmp/KTLH20160902_021359_V06\n",
      "using cached file ...\n",
      "./tmp/KTLH20160902_022009_V06\n",
      "using cached file ...\n",
      "./tmp/KTLH20160902_022617_V06\n",
      "using cached file ...\n",
      "./tmp/KTLH20160902_023228_V06\n",
      "using cached file ...\n",
      "./tmp/KTLH20160902_023838_V06\n",
      "using cached file ...\n",
      "./tmp/KTLH20160902_024448_V06\n",
      "using cached file ...\n",
      "./tmp/KTLH20160902_025125_V06\n",
      "using cached file ...\n",
      "./tmp/KTLH20160902_025803_V06\n",
      "using cached file ...\n",
      "./tmp/KTLH20160902_030439_V06\n",
      "using cached file ...\n",
      "./tmp/KTLH20160902_031116_V06\n",
      "using cached file ...\n",
      "./tmp/KTLH20160902_031754_V06\n",
      "using cached file ...\n",
      "./tmp/KTLH20160902_032431_V06\n",
      "using cached file ...\n",
      "./tmp/KTLH20160902_033108_V06\n",
      "using cached file ...\n",
      "./tmp/KTLH20160902_033746_V06\n",
      "using cached file ...\n",
      "./tmp/KTLH20160902_034426_V06\n",
      "using cached file ...\n",
      "./tmp/KTLH20160902_035104_V06\n",
      "CPU times: user 135 µs, sys: 1.15 ms, total: 1.28 ms\n",
      "Wall time: 19.7 ms\n"
     ]
    }
   ],
   "source": [
    "%%time\n",
    "\n",
    "if nscans > 100:\n",
    "    print('Do you really intend to process >100 files?')\n",
    "else:\n",
    "    paths = []\n",
    "    for data_url, filename in zip(data_urls, filenames):\n",
    "        paths.append(get_datafile(data_url, filename))"
   ]
  },
  {
   "cell_type": "markdown",
   "metadata": {},
   "source": [
    "## Read data and calculate rainfall"
   ]
  },
  {
   "cell_type": "code",
   "execution_count": 10,
   "metadata": {
    "collapsed": true
   },
   "outputs": [],
   "source": [
    "import pyart\n",
    "from skewt import SkewT"
   ]
  },
  {
   "cell_type": "markdown",
   "metadata": {},
   "source": [
    "## Sounding\n",
    "\n",
    "Optionally you can get data from a nearby sounding in the UWyo format (i.e., from http://weather.uwyo.edu/upperair/sounding.html), and copy and paste it into a txt file. "
   ]
  },
  {
   "cell_type": "code",
   "execution_count": 11,
   "metadata": {
    "collapsed": false
   },
   "outputs": [],
   "source": [
    "sounding = SkewT.Sounding('./tmp/sounding.txt')"
   ]
  },
  {
   "cell_type": "code",
   "execution_count": 12,
   "metadata": {
    "collapsed": true
   },
   "outputs": [],
   "source": [
    "fields = ['rain', 'r_kdp', 'r_z']\n",
    "cols = ['gate_lon', 'gate_lat', 'gate_altitude']\n",
    "cols.extend(fields)"
   ]
  },
  {
   "cell_type": "markdown",
   "metadata": {},
   "source": [
    "## Run\n",
    "First we need to import the tools from pyart_radar_tools, then we can process all the radar files"
   ]
  },
  {
   "cell_type": "code",
   "execution_count": 13,
   "metadata": {
    "collapsed": false
   },
   "outputs": [],
   "source": [
    "from pyart_radar_tools import *\n",
    "\n",
    "def process_radar(path, sounding):\n",
    "    radar = pyart.io.read(path)\n",
    "    radar, start_gate, end_gate = mask_data(radar)\n",
    "    dp_radar, vel_radar = separate_dp_vel_sweeps(radar)\n",
    "    sw_vel_mask = construct_sw_vel_mask(vel_radar)\n",
    "    radar = mask_dp_fiels(vel_radar, dp_radar, sw_vel_mask)\n",
    "    radar = calculate_hidro_rain(radar, sounding)\n",
    "    radar = calculate_rain_nexrad(radar)\n",
    "    radar = calculate_rain_kdp(radar)\n",
    "    for field in ['rain', 'r_kdp', 'r_z']:\n",
    "        radar = interpolate_radially(radar, field, start_gate, end_gate,\n",
    "                                     interpolate_max=10)\n",
    "    return radar"
   ]
  },
  {
   "cell_type": "code",
   "execution_count": 14,
   "metadata": {
    "collapsed": false
   },
   "outputs": [
    {
     "name": "stdout",
     "output_type": "stream",
     "text": [
      "('processing', './tmp/KTLH20160902_015528_V06')\n"
     ]
    },
    {
     "name": "stderr",
     "output_type": "stream",
     "text": [
      "/home/jsignell/miniconda2/envs/radar/lib/python2.7/site-packages/numpy/ma/core.py:4144: UserWarning: Warning: converting a masked element to nan.\n",
      "  warnings.warn(\"Warning: converting a masked element to nan.\")\n"
     ]
    },
    {
     "name": "stdout",
     "output_type": "stream",
     "text": [
      "('processing', './tmp/KTLH20160902_020138_V06')\n",
      "('processing', './tmp/KTLH20160902_020748_V06')\n",
      "('processing', './tmp/KTLH20160902_021359_V06')\n",
      "('processing', './tmp/KTLH20160902_022009_V06')\n",
      "('processing', './tmp/KTLH20160902_022617_V06')\n",
      "('processing', './tmp/KTLH20160902_023228_V06')\n",
      "('processing', './tmp/KTLH20160902_023838_V06')\n",
      "('processing', './tmp/KTLH20160902_024448_V06')\n",
      "('processing', './tmp/KTLH20160902_025125_V06')\n",
      "('processing', './tmp/KTLH20160902_025803_V06')\n",
      "('processing', './tmp/KTLH20160902_030439_V06')\n",
      "('processing', './tmp/KTLH20160902_031116_V06')\n",
      "('processing', './tmp/KTLH20160902_031754_V06')\n",
      "('processing', './tmp/KTLH20160902_032431_V06')\n",
      "('processing', './tmp/KTLH20160902_033108_V06')\n",
      "('processing', './tmp/KTLH20160902_033746_V06')\n",
      "('processing', './tmp/KTLH20160902_034426_V06')\n",
      "('processing', './tmp/KTLH20160902_035104_V06')\n",
      "CPU times: user 10min 3s, sys: 27.9 s, total: 10min 31s\n",
      "Wall time: 10min 34s\n"
     ]
    }
   ],
   "source": [
    "%%time\n",
    "radar0 = pyart.io.read(paths[0])\n",
    "netcdf=True\n",
    "gage_dict={}\n",
    "for gage_name in gage_names:\n",
    "    if netcdf:\n",
    "        latitude = ds_gage.lat.sel(station=gage_name).values\n",
    "        longitude = ds_gage.lon.sel(station=gage_name).values\n",
    "    else:\n",
    "        latitude = gage_df.loc[gage_name, 'lat']\n",
    "        longitude = gage_df.loc[gage_name, 'lon']\n",
    "    x_disp, y_disp = find_x_y_displacement(radar0, longitude, latitude)\n",
    "    gage_dict.update({gage_name: {'x_disp': x_disp, 'y_disp': y_disp}})\n",
    "\n",
    "sweep_times = []\n",
    "sweep_stacks = []\n",
    "for path in paths:\n",
    "    print('processing', path)\n",
    "    radar = process_radar(path, sounding)\n",
    "    base_time = pd.Timestamp(radar.time['units'].split()[2])\n",
    "    for sweep in range(radar.nsweeps):\n",
    "        end_sweep_time = pd.Timedelta(seconds=radar.time['data'][radar.get_end(sweep)])+base_time\n",
    "        gate_x, gate_y, gate_z = radar.get_gate_x_y_z(sweep)\n",
    "        sweep_times.append(end_sweep_time)\n",
    "        \n",
    "        b = []\n",
    "        for gage_name in gage_names:\n",
    "            distances = np.sqrt((gate_x-gage_dict[gage_name]['x_disp'])**2. + \n",
    "                                (gate_y-gage_dict[gage_name]['y_disp'])**2.)\n",
    "            ray, gate = np.unravel_index(distances.argmin(), distances.shape)\n",
    "\n",
    "            a = np.array([radar.gate_latitude['data'][ray, gate],\n",
    "                          radar.gate_longitude['data'][ray, gate],\n",
    "                          radar.gate_altitude['data'][ray, gate]])\n",
    "            a = np.concatenate([a, [radar.fields[field]['data'][ray, gate] for field in fields]])\n",
    "            b.append(a)\n",
    "        sweep_stacks.append(np.stack(b, axis=1))\n",
    "c = np.stack(sweep_stacks, axis=2)\n",
    "\n",
    "d = {'time': {'dims': ('time'), 'data': sweep_times},\n",
    "     'station': {'dims': ('station'), 'data': gage_names}}\n",
    "for i, name in enumerate(cols):\n",
    "    d.update({name: {'dims': ('station', 'time'), 'data': c[i]}})\n",
    "ds_radar = xr.Dataset.from_dict(d)\n",
    "ds_radar.set_coords(['gate_altitude', 'gate_lat', 'gate_lon'], inplace=True)"
   ]
  },
  {
   "cell_type": "code",
   "execution_count": 15,
   "metadata": {
    "collapsed": false
   },
   "outputs": [
    {
     "name": "stdout",
     "output_type": "stream",
     "text": [
      "CPU times: user 12.4 ms, sys: 1.02 ms, total: 13.4 ms\n",
      "Wall time: 130 ms\n"
     ]
    }
   ],
   "source": [
    "%%time\n",
    "ds_radar_15 = ds_radar[fields].resample('15min', 'time', label='right')"
   ]
  },
  {
   "cell_type": "code",
   "execution_count": 16,
   "metadata": {
    "collapsed": false
   },
   "outputs": [
    {
     "name": "stdout",
     "output_type": "stream",
     "text": [
      "CPU times: user 1.99 ms, sys: 0 ns, total: 1.99 ms\n",
      "Wall time: 21.8 ms\n"
     ]
    }
   ],
   "source": [
    "%%time\n",
    "ds = ds_gage.merge(ds_radar_15)"
   ]
  },
  {
   "cell_type": "code",
   "execution_count": 17,
   "metadata": {
    "collapsed": false
   },
   "outputs": [
    {
     "data": {
      "text/plain": [
       "[<matplotlib.lines.Line2D at 0x7f93b3bcd750>]"
      ]
     },
     "execution_count": 17,
     "metadata": {},
     "output_type": "execute_result"
    },
    {
     "data": {
      "image/png": "[encoded data removed]",
      "text/plain": [
       "<matplotlib.figure.Figure at 0x7f93b8a7fa90>"
      ]
     },
     "metadata": {},
     "output_type": "display_data"
    }
   ],
   "source": [
    "%matplotlib inline\n",
    "ds.rain.mean('station').plot(c='g')\n",
    "ds.r_z.mean('station').plot(c='b')\n",
    "ds.r_kdp.mean('station').plot(c='r')"
   ]
  }
 ],
 "metadata": {
  "kernelspec": {
   "display_name": "Python 2",
   "language": "python",
   "name": "python2"
  },
  "language_info": {
   "codemirror_mode": {
    "name": "ipython",
    "version": 2
   },
   "file_extension": ".py",
   "mimetype": "text/x-python",
   "name": "python",
   "nbconvert_exporter": "python",
   "pygments_lexer": "ipython2",
   "version": "2.7.12"
  }
 },
 "nbformat": 4,
 "nbformat_minor": 0
}
