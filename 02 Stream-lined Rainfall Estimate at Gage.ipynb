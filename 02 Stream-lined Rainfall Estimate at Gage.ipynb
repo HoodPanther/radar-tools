{
 "cells": [
  {
   "cell_type": "markdown",
   "metadata": {},
   "source": [
    "# Roadmap\n",
    "\n",
    "The goal of this notebook is to provide an example of how to scrape NEXRAD level II data and use pyart and csu_radar_tools to calculate radar rainfall estimates at rain gage locations during a storm. Inspiration from the discussion [here](https://groups.google.com/forum/#!msg/pyart-users/dxw0Mm7-SzI/iRI3-yXxDQAJ)\n",
    "\n",
    "  1. Genarate mock rain gage data\n",
    "  2. Find available NEXRAD data\n",
    "  2. Download NEXRAD data\n",
    "  4. Mask bad data\n",
    "  5. Download sounding data\n",
    "  6. Classify hydrometeors\n",
    "  7. Compute rainfall estimate\n",
    "  8. Interpolate radially\n",
    "  9. Pull out rainfall estimates at gage locations"
   ]
  },
  {
   "cell_type": "markdown",
   "metadata": {},
   "source": [
    "Before getting started, set up your environment with all the necessities to run this notebook. To create this environment just run **`$ conda env create -f environment.yml`** where **`environment.yml`** is a file containing the following:"
   ]
  },
  {
   "cell_type": "code",
   "execution_count": 2,
   "metadata": {
    "collapsed": false
   },
   "outputs": [
    {
     "name": "stdout",
     "output_type": "stream",
     "text": [
      "name: radar\r\n",
      "channels:\r\n",
      "- conda-forge\r\n",
      "- defaults\r\n",
      "dependencies:\r\n",
      "- python=2.7\r\n",
      "- arm_pyart\r\n",
      "- basemap\r\n",
      "- basemap-data-hires\r\n",
      "- matplotlib\r\n",
      "- jupyter\r\n",
      "- pandas\r\n",
      "- numpy\r\n",
      "- cython\r\n",
      "- wget\r\n",
      "- lxml\r\n",
      "- pip:\r\n",
      "  - skewt\r\n",
      "  - git+git://github.com/CSU-Radarmet/CSU_RadarTools.git\r\n"
     ]
    }
   ],
   "source": [
    "!cat environment.yml"
   ]
  },
  {
   "cell_type": "markdown",
   "metadata": {},
   "source": [
    "## Mock rain gage data"
   ]
  },
  {
   "cell_type": "code",
   "execution_count": 5,
   "metadata": {
    "collapsed": true
   },
   "outputs": [],
   "source": [
    "import numpy as np\n",
    "import pandas as pd\n",
    "import xarray as xr"
   ]
  },
  {
   "cell_type": "code",
   "execution_count": 6,
   "metadata": {
    "collapsed": true
   },
   "outputs": [],
   "source": [
    "ID='KTLH'\n",
    "latitude = 30.39758301\n",
    "longitude = -84.32894135\n",
    "\n",
    "year=2016\n",
    "month=9\n",
    "day=2\n",
    "hour=2\n",
    "\n",
    "t_start = '2016-09-02 02:00'\n",
    "t_end = '2016-09-02 04:00'"
   ]
  },
  {
   "cell_type": "code",
   "execution_count": 7,
   "metadata": {
    "collapsed": false
   },
   "outputs": [
    {
     "name": "stdout",
     "output_type": "stream",
     "text": [
      "<xarray.Dataset>\n",
      "Dimensions:                 (station: 50, time: 10)\n",
      "Coordinates:\n",
      "  * time                    (time) datetime64[ns] 2016-09-02T02:00:00 ...\n",
      "  * station                 (station) |S3 'G1' 'G2' 'G3' 'G4' 'G5' 'G6' 'G7' ...\n",
      "    lat                     (station) float64 31.8 31.84 31.07 31.48 30.82 ...\n",
      "    lon                     (station) float64 -83.35 -84.01 -83.79 -83.17 ...\n",
      "Data variables:\n",
      "    rain_gage_accumulation  (station, time) float64 0.0 0.0 0.0 0.0 0.0 0.0 ...\n",
      "CPU times: user 32.1 ms, sys: 2.93 ms, total: 35 ms\n",
      "Wall time: 30.3 ms\n"
     ]
    }
   ],
   "source": [
    "%%time\n",
    "\n",
    "netcdf=True\n",
    "\n",
    "gage_times = pd.date_range(pd.datetime(year, month, day, hour), freq='15min', periods=10, tz='UTC')\n",
    "gage_locs = np.random.rand(50,2)*2+ np.array([latitude, longitude])\n",
    "gage_data = np.zeros((gage_times.shape[0], gage_locs.shape[0]))\n",
    "gage_names = ['G'+str(i) for i in range(1, gage_locs.shape[0]+1)]\n",
    "\n",
    "gage_df_data = pd.DataFrame(index=gage_times, data=gage_data, columns=gage_names)\n",
    "gage_df_locs = pd.DataFrame(index=gage_names, data=gage_locs, columns=['lat', 'lon'])\n",
    "\n",
    "if not netcdf:\n",
    "    gage_df = pd.concat([gage_df_locs, gage_df_data.T], axis=1)\n",
    "    gage_df.head()\n",
    "\n",
    "def to_da(i, name, gage_data, gage_times):\n",
    "    return xr.DataArray(gage_data[:,i], name=name, dims={'time': gage_times.shape},\n",
    "                        coords={'time': gage_times.astype('datetime64[ns]'), 'station':name})\n",
    "\n",
    "datasets = [to_da(i, name, gage_data, gage_times) for i, name in enumerate(gage_names)]\n",
    "combined = xr.concat(datasets, 'station')\n",
    "ds0 = combined.to_dataset(name='rain_gage_accumulation')\n",
    "\n",
    "gage_df_locs.index.name='station'\n",
    "ds_gage = ds0.merge(xr.Dataset(gage_df_locs))\n",
    "ds_gage.set_coords(['lat', 'lon'], inplace=True)\n",
    "print(ds_gage)"
   ]
  },
  {
   "cell_type": "markdown",
   "metadata": {},
   "source": [
    "## Find Available Data\n",
    "\n",
    "First we will see what data are available for the date and site that we are interested in. "
   ]
  },
  {
   "cell_type": "code",
   "execution_count": 11,
   "metadata": {
    "collapsed": false
   },
   "outputs": [
    {
     "name": "stdout",
     "output_type": "stream",
     "text": [
      "http://www.ncdc.noaa.gov/nexradinv/bdp-download.jsp?id=KTLH&yyyy=2016&mm=09&dd=02&product=AAL2\n"
     ]
    }
   ],
   "source": [
    "Y = '{Y:04d}'.format(Y=year)\n",
    "M = '{M:02d}'.format(M=month)\n",
    "D = '{D:02d}'.format(D=day)\n",
    "\n",
    "url = 'http://www.ncdc.noaa.gov/nexradinv/bdp-download.jsp?id={ID}&yyyy={Y}&mm={M}&dd={D}&product=AAL2'.format(\n",
    "       ID=ID, Y=Y, M=M, D=D)\n",
    "print(url)"
   ]
  },
  {
   "cell_type": "code",
   "execution_count": 10,
   "metadata": {
    "collapsed": false
   },
   "outputs": [
    {
     "name": "stdout",
     "output_type": "stream",
     "text": [
      "CPU times: user 14.8 ms, sys: 735 µs, total: 15.6 ms\n",
      "Wall time: 527 ms\n"
     ]
    }
   ],
   "source": [
    "%%time\n",
    "from lxml.html import parse\n",
    "import re\n",
    "\n",
    "page = parse(url)\n",
    "pattern = re.compile(\"[A-Z]{4}([0-9]{8})_([0-9]{6})*\")\n",
    "\n",
    "data_urls = []\n",
    "filenames = []\n",
    "times = []\n",
    "\n",
    "for el in page.xpath(\"//div[@class='bdpLink']\"):\n",
    "    data_url = el.find(\"a\").get(\"href\")\n",
    "    filename = data_url.split('/')[-1]\n",
    "    if not pattern.search(filename):\n",
    "        continue\n",
    "    time = pd.Timestamp(filename[4:19].replace('_', ' '))\n",
    "    data_urls.append(data_url)\n",
    "    filenames.append(filename)\n",
    "    times.append(time)\n",
    "times = pd.DatetimeIndex(times)"
   ]
  },
  {
   "cell_type": "code",
   "execution_count": 7,
   "metadata": {
    "collapsed": true
   },
   "outputs": [],
   "source": [
    "t0 = times.asof(pd.Timestamp(t_start))\n",
    "tn = times.asof(pd.Timestamp(t_end))\n",
    "\n",
    "data_urls = data_urls[times.get_loc(t0): times.get_loc(tn)]\n",
    "filenames = filenames[times.get_loc(t0): times.get_loc(tn)]\n",
    "\n",
    "nscans = len(filenames)"
   ]
  },
  {
   "cell_type": "markdown",
   "metadata": {},
   "source": [
    "## Download Data\n",
    "\n",
    "Now that you have a valid data_url, all that is left is downloading the data."
   ]
  },
  {
   "cell_type": "code",
   "execution_count": 8,
   "metadata": {
    "collapsed": false
   },
   "outputs": [
    {
     "name": "stdout",
     "output_type": "stream",
     "text": [
      "CPU times: user 2 µs, sys: 2 µs, total: 4 µs\n",
      "Wall time: 5.96 µs\n"
     ]
    }
   ],
   "source": [
    "%%time\n",
    "\n",
    "def get_datafile(data_url, filename, cache='./tmp/'):\n",
    "    import os\n",
    "    import wget\n",
    "\n",
    "    if not os.path.isdir(cache):\n",
    "        os.mkdir(cache)\n",
    "\n",
    "    if os.path.isfile(cache+filename):\n",
    "        print('using cached file ...')\n",
    "        path_to_file = cache+filename\n",
    "    else:\n",
    "        print('downloading file ...')\n",
    "        path_to_file = wget.download(data_url, out=cache+filename)\n",
    "    print(path_to_file)\n",
    "    return path_to_file"
   ]
  },
  {
   "cell_type": "code",
   "execution_count": 9,
   "metadata": {
    "collapsed": false
   },
   "outputs": [
    {
     "name": "stdout",
     "output_type": "stream",
     "text": [
      "using cached file ...\n",
      "./tmp/KTLH20160902_015528_V06\n",
      "using cached file ...\n",
      "./tmp/KTLH20160902_020138_V06\n",
      "using cached file ...\n",
      "./tmp/KTLH20160902_020748_V06\n",
      "using cached file ...\n",
      "./tmp/KTLH20160902_021359_V06\n",
      "using cached file ...\n",
      "./tmp/KTLH20160902_022009_V06\n",
      "using cached file ...\n",
      "./tmp/KTLH20160902_022617_V06\n",
      "using cached file ...\n",
      "./tmp/KTLH20160902_023228_V06\n",
      "using cached file ...\n",
      "./tmp/KTLH20160902_023838_V06\n",
      "using cached file ...\n",
      "./tmp/KTLH20160902_024448_V06\n",
      "using cached file ...\n",
      "./tmp/KTLH20160902_025125_V06\n",
      "using cached file ...\n",
      "./tmp/KTLH20160902_025803_V06\n",
      "using cached file ...\n",
      "./tmp/KTLH20160902_030439_V06\n",
      "using cached file ...\n",
      "./tmp/KTLH20160902_031116_V06\n",
      "using cached file ...\n",
      "./tmp/KTLH20160902_031754_V06\n",
      "using cached file ...\n",
      "./tmp/KTLH20160902_032431_V06\n",
      "using cached file ...\n",
      "./tmp/KTLH20160902_033108_V06\n",
      "using cached file ...\n",
      "./tmp/KTLH20160902_033746_V06\n",
      "using cached file ...\n",
      "./tmp/KTLH20160902_034426_V06\n",
      "using cached file ...\n",
      "./tmp/KTLH20160902_035104_V06\n",
      "CPU times: user 21 µs, sys: 1.03 ms, total: 1.05 ms\n",
      "Wall time: 848 µs\n"
     ]
    }
   ],
   "source": [
    "%%time\n",
    "\n",
    "if nscans > 100:\n",
    "    print('Do you really intend to process >100 files?')\n",
    "else:\n",
    "    paths = []\n",
    "    for data_url, filename in zip(data_urls, filenames):\n",
    "        paths.append(get_datafile(data_url, filename))"
   ]
  },
  {
   "cell_type": "markdown",
   "metadata": {},
   "source": [
    "## Read data and calculate rainfall"
   ]
  },
  {
   "cell_type": "code",
   "execution_count": 10,
   "metadata": {
    "collapsed": true
   },
   "outputs": [],
   "source": [
    "import pyart\n",
    "from skewt import SkewT\n",
    "from csu_radartools import csu_fhc, csu_blended_rain, csu_dsd, csu_kdp\n",
    "import pyproj"
   ]
  },
  {
   "cell_type": "markdown",
   "metadata": {},
   "source": [
    "## Sounding\n",
    "\n",
    "Optionally you can get data from a nearby sounding in the UWyo format (i.e., from http://weather.uwyo.edu/upperair/sounding.html), and copy and paste it into a txt file. "
   ]
  },
  {
   "cell_type": "code",
   "execution_count": 11,
   "metadata": {
    "collapsed": true
   },
   "outputs": [],
   "source": [
    "sounding = SkewT.Sounding('./tmp/sounding.txt')"
   ]
  },
  {
   "cell_type": "code",
   "execution_count": 12,
   "metadata": {
    "collapsed": true
   },
   "outputs": [],
   "source": [
    "fields = ['interpolated_rain', 'interpolated_r_kdp', 'interpolated_r_z']\n",
    "cols = ['gate_lon', 'gate_lat', 'gate_altitude']\n",
    "cols.extend(fields)"
   ]
  },
  {
   "cell_type": "markdown",
   "metadata": {},
   "source": [
    "## Run\n",
    "First you need to run all the functions in the [last cell](#Functions), then you can process all the radar files"
   ]
  },
  {
   "cell_type": "code",
   "execution_count": 14,
   "metadata": {
    "collapsed": false
   },
   "outputs": [
    {
     "name": "stdout",
     "output_type": "stream",
     "text": [
      "CPU times: user 9min 35s, sys: 20.9 s, total: 9min 56s\n",
      "Wall time: 10min\n"
     ]
    }
   ],
   "source": [
    "%%time\n",
    "radar0 = pyart.io.read(paths[0])\n",
    "netcdf=True\n",
    "gage_dict={}\n",
    "for gage_name in gage_names:\n",
    "    if netcdf:\n",
    "        latitude = ds_gage.lat.sel(station=gage_name).values\n",
    "        longitude = ds_gage.lon.sel(station=gage_name).values\n",
    "    else:\n",
    "        latitude = gage_df.loc[gage_name, 'lat']\n",
    "        longitude = gage_df.loc[gage_name, 'lon']\n",
    "    x_disp, y_disp = find_x_y_displacement(radar0, longitude, latitude)\n",
    "    gage_dict.update({gage_name: {'x_disp': x_disp, 'y_disp': y_disp}})\n",
    "\n",
    "sweep_times = []\n",
    "sweep_stacks = []\n",
    "for path in paths:\n",
    "    print('processing', path)\n",
    "    radar = process_radar(path, sounding)\n",
    "    base_time = pd.Timestamp(radar.time['units'].split()[2])\n",
    "    for sweep in range(radar.nsweeps):\n",
    "        end_sweep_time = pd.Timedelta(seconds=radar.time['data'][radar.get_end(sweep)])+base_time\n",
    "        gate_x, gate_y, gate_z = radar.get_gate_x_y_z(sweep)\n",
    "        sweep_times.append(end_sweep_time)\n",
    "        \n",
    "        b = []\n",
    "        for gage_name in gage_names:\n",
    "            distances = np.sqrt((gate_x-gage_dict[gage_name]['x_disp'])**2. + \n",
    "                                (gate_y-gage_dict[gage_name]['y_disp'])**2.)\n",
    "            ray, gate = np.unravel_index(distances.argmin(), distances.shape)\n",
    "\n",
    "            a = np.array([radar.gate_latitude['data'][ray, gate],\n",
    "                          radar.gate_longitude['data'][ray, gate],\n",
    "                          radar.gate_altitude['data'][ray, gate]])\n",
    "            a = np.concatenate([a, [radar.fields[field]['data'][ray, gate] for field in fields]])\n",
    "            b.append(a)\n",
    "        sweep_stacks.append(np.stack(b, axis=1))\n",
    "c = np.stack(sweep_stacks, axis=2)\n",
    "\n",
    "d = {'time': {'dims': ('time'), 'data': sweep_times},\n",
    "     'station': {'dims': ('station'), 'data': gage_names}}\n",
    "for i, name in enumerate(cols):\n",
    "    d.update({name: {'dims': ('station', 'time'), 'data': c[i]}})\n",
    "ds_radar = xr.Dataset.from_dict(d)\n",
    "ds_radar.set_coords(['gate_altitude', 'gate_lat', 'gate_lon'], inplace=True)"
   ]
  },
  {
   "cell_type": "code",
   "execution_count": 15,
   "metadata": {
    "collapsed": false
   },
   "outputs": [
    {
     "name": "stdout",
     "output_type": "stream",
     "text": [
      "CPU times: user 14.2 ms, sys: 1.04 ms, total: 15.2 ms\n",
      "Wall time: 300 ms\n"
     ]
    }
   ],
   "source": [
    "%%time\n",
    "ds_radar_15 = ds_radar[fields].resample('15min', 'time', label='right')"
   ]
  },
  {
   "cell_type": "code",
   "execution_count": 18,
   "metadata": {
    "collapsed": false
   },
   "outputs": [
    {
     "name": "stdout",
     "output_type": "stream",
     "text": [
      "CPU times: user 2.2 ms, sys: 1.01 ms, total: 3.2 ms\n",
      "Wall time: 2.71 ms\n"
     ]
    }
   ],
   "source": [
    "%%time\n",
    "ds = ds_gage.merge(ds_radar_15)"
   ]
  },
  {
   "cell_type": "code",
   "execution_count": 29,
   "metadata": {
    "collapsed": false
   },
   "outputs": [
    {
     "data": {
      "text/plain": [
       "[<matplotlib.lines.Line2D at 0x7f732960edd0>]"
      ]
     },
     "execution_count": 29,
     "metadata": {},
     "output_type": "execute_result"
    },
    {
     "data": {
      "image/png": "[encoded data removed]",
      "text/plain": [
       "<matplotlib.figure.Figure at 0x7f73295d7910>"
      ]
     },
     "metadata": {},
     "output_type": "display_data"
    }
   ],
   "source": [
    "%matplotlib inline\n",
    "ds.interpolated_rain.mean('station').plot(c='g')\n",
    "ds.interpolated_r_z.mean('station').plot(c='b')\n",
    "ds.interpolated_r_kdp.mean('station').plot(c='r')"
   ]
  },
  {
   "cell_type": "markdown",
   "metadata": {},
   "source": [
    "## Functions\n",
    "Run the cell below, then [hop back up](#Run) and process all the files."
   ]
  },
  {
   "cell_type": "code",
   "execution_count": 13,
   "metadata": {
    "collapsed": false
   },
   "outputs": [],
   "source": [
    "def process_radar(path, sounding):\n",
    "    radar = pyart.io.read(path)\n",
    "    radar, start_gate, end_gate = mask_data(radar)\n",
    "    dp_radar, vel_radar = separate_dp_vel_sweeps(radar)\n",
    "    sw_vel_mask = construct_sw_vel_mask(vel_radar)\n",
    "    radar = mask_dp_fiels(vel_radar, dp_radar, sw_vel_mask)\n",
    "    calculate_rainfall(radar, sounding, start_gate, end_gate)\n",
    "    return radar\n",
    "\n",
    "def get_z_from_radar(radar):\n",
    "    \"\"\"Input radar object, return z from radar (m, 2D)\"\"\"\n",
    "    zz = []\n",
    "    for sweep in range(radar.nsweeps):\n",
    "        zz.append(radar.get_gate_x_y_z(sweep)[2])\n",
    "    return np.concatenate(zz, axis=0)\n",
    "\n",
    "def check_sounding_for_montonic(sounding):\n",
    "    \"\"\"\n",
    "    So the sounding interpolation doesn't fail, force the sounding to behave\n",
    "    monotonically so that z always increases. This eliminates data from\n",
    "    descending balloons.\n",
    "    \"\"\"\n",
    "    snd_T = sounding.soundingdata['temp']  # In old SkewT, was sounding.data\n",
    "    snd_z = sounding.soundingdata['hght']  # In old SkewT, was sounding.data\n",
    "    dummy_z = []\n",
    "    dummy_T = []\n",
    "    if not snd_T.mask[0]: #May cause issue for specific soundings\n",
    "        dummy_z.append(snd_z[0])\n",
    "        dummy_T.append(snd_T[0])\n",
    "        for i, height in enumerate(snd_z):\n",
    "            if i > 0:\n",
    "                if snd_z[i] > snd_z[i-1] and not snd_T.mask[i]:\n",
    "                    dummy_z.append(snd_z[i])\n",
    "                    dummy_T.append(snd_T[i])\n",
    "        snd_z = np.array(dummy_z)\n",
    "        snd_T = np.array(dummy_T)\n",
    "    return snd_T, snd_z\n",
    "\n",
    "def interpolate_sounding_to_radar(sounding, radar):\n",
    "    \"\"\"Takes sounding data and interpolates it to every radar gate.\"\"\"\n",
    "    radar_z = get_z_from_radar(radar)\n",
    "    radar_T = None\n",
    "    snd_T, snd_z = check_sounding_for_montonic(sounding)\n",
    "    shape = np.shape(radar_z)\n",
    "    rad_z1d = radar_z.ravel()\n",
    "    rad_T1d = np.interp(rad_z1d, snd_z, snd_T)\n",
    "    return np.reshape(rad_T1d, shape), radar_z\n",
    "\n",
    "def mask_data(radar, max_elevation_angle=0.6, min_dist_km=5, max_dist_km=300):\n",
    "    # We just want the lowest sweeps and the gates at which we can reasonably have good data\n",
    "    low_sweeps = [i for i, bool in enumerate(radar.fixed_angle['data']<max_elevation_angle) if bool]\n",
    "    radar = radar.extract_sweeps(low_sweeps)\n",
    "\n",
    "    if radar.range['units'] == 'meters':\n",
    "        start_gate = (radar.range['data']< min_dist_km*1000).sum()\n",
    "        end_gate = (radar.range['data']< max_dist_km*1000).sum()\n",
    "\n",
    "    for field in radar.fields.keys():\n",
    "        radar.fields[field]['data'].mask[:,:start_gate] = True\n",
    "    return radar, start_gate, end_gate\n",
    "\n",
    "def separate_dp_vel_sweeps(radar):\n",
    "    # check that adjoining times are close?\n",
    "    dp_sweeps = [i for i in range(radar.nsweeps) if ~radar.extract_sweeps([i]).fields['differential_phase']['data'].mask.all()]\n",
    "    vel_sweeps = [i for i in range(radar.nsweeps) if ~radar.extract_sweeps([i]).fields['velocity']['data'].mask.all()]\n",
    "\n",
    "    vel_radar = radar.extract_sweeps(vel_sweeps)\n",
    "    dp_radar = radar.extract_sweeps(dp_sweeps)\n",
    "    \n",
    "    return dp_radar, vel_radar\n",
    "\n",
    "def construct_sw_vel_mask(vel_radar):\n",
    "    vel = vel_radar.fields['velocity']['data']\n",
    "    sw = vel_radar.fields['spectrum_width']['data']\n",
    "\n",
    "    # construct a mask with the same shape as vel, but all False\n",
    "    sw_vel_mask = np.zeros_like(vel.mask)\n",
    "\n",
    "    # mask places where neither vel nor sw are masked, and both are zero\n",
    "    rows_cols  = np.stack(np.where((~vel.mask) & (~sw.mask) & (vel==0) & (sw==0)), axis=1)\n",
    "    for row, col in rows_cols:\n",
    "        sw_vel_mask[row, col:] = True\n",
    "    return sw_vel_mask\n",
    "\n",
    "def mask_dp_fiels(vel_radar, dp_radar, sw_vel_mask):\n",
    "    # add time check? \n",
    "    v = np.append(vel_radar.sweep_start_ray_index['data'], None)\n",
    "    d = np.append(dp_radar.sweep_start_ray_index['data'], None)\n",
    "    for i in range(vel_radar.nsweeps):\n",
    "        a = (np.abs(dp_radar.azimuth['data'][d[i]:d[i+1]]-vel_radar.azimuth['data'][v[i]])).argmin()\n",
    "        mask = np.roll(sw_vel_mask[v[i]:v[i+1]], a)\n",
    "        for field in ['reflectivity', 'differential_reflectivity',\n",
    "                      'cross_correlation_ratio', 'differential_phase']:\n",
    "            dp_radar.fields[field]['data'].mask[d[i]:d[i+1]]+= mask\n",
    "    return dp_radar\n",
    "\n",
    "def add_field_to_radar_object(field, radar, field_name='FH', units='unitless', \n",
    "                              long_name='Hydrometeor ID', standard_name='Hydrometeor ID',\n",
    "                              dz_field='reflectivity'):\n",
    "    \"\"\"\n",
    "    Adds a newly created field to the Py-ART radar object. If reflectivity is a masked array,\n",
    "    make the new field masked the same as reflectivity.\n",
    "    \"\"\"\n",
    "    fill_value = -32768\n",
    "    masked_field = np.ma.asanyarray(field)\n",
    "    masked_field.mask = masked_field == fill_value\n",
    "    if hasattr(radar.fields[dz_field]['data'], 'mask'):\n",
    "        setattr(masked_field, 'mask', \n",
    "                np.logical_or(masked_field.mask, radar.fields[dz_field]['data'].mask))\n",
    "        fill_value = radar.fields[dz_field]['_FillValue']\n",
    "    field_dict = {'data': masked_field,\n",
    "                  'units': units,\n",
    "                  'long_name': long_name,\n",
    "                  'standard_name': standard_name,\n",
    "                  '_FillValue': fill_value}\n",
    "    radar.add_field(field_name, field_dict, replace_existing=True)\n",
    "    return radar\n",
    "\n",
    "def extract_unmasked_data(radar, field, bad=-32768):\n",
    "    \"\"\"Simplify getting unmasked radar fields from Py-ART\"\"\"\n",
    "    return radar.fields[field]['data'].filled(fill_value=bad)\n",
    "\n",
    "def interpolate_radially(radar, field, start_gate, end_gate, units='mmh-1',\n",
    "                         long_name='Interpolated Rain', standard_name='Interpolated Rain'):\n",
    "    rain = radar.fields[field]['data']\n",
    "    sweep_starts = np.append(radar.sweep_start_ray_index['data'], None)\n",
    "\n",
    "    def func(a):\n",
    "        x=np.arange(720)\n",
    "        y=a.data\n",
    "        ma=a.mask\n",
    "        y[ma] = np.interp(x[ma], x[~ma], y[~ma], left=0, right=0)\n",
    "\n",
    "    for n in range(len(sweep_starts)-1):\n",
    "        foo = [func(rain[sweep_starts[n]:sweep_starts[n+1],i]) for i in range(start_gate, end_gate)]\n",
    "    \n",
    "    radar = add_field_to_radar_object(rain.data, radar, 'interpolated_'+field, units=units, dz_field='rain',\n",
    "                                      long_name=long_name, standard_name=standard_name)\n",
    "\n",
    "    radar.fields['interpolated_'+field]['data'].mask=False\n",
    "    return radar\n",
    "\n",
    "def calculate_rainfall(radar, sounding, start_gate, end_gate):\n",
    "    \n",
    "    dz = extract_unmasked_data(radar, 'reflectivity')\n",
    "    dr = extract_unmasked_data(radar, 'differential_reflectivity')\n",
    "    dp = extract_unmasked_data(radar, 'differential_phase')\n",
    "    rh = extract_unmasked_data(radar, 'cross_correlation_ratio')\n",
    "\n",
    "    # Range needs to be supplied as a variable, and it needs to be the same shape as dzN, etc.\n",
    "    rng2d, az2d = np.meshgrid(radar.range['data'], radar.azimuth['data'])\n",
    "\n",
    "    gs = rng2d[0,1] - rng2d[0,0]\n",
    "    kd, fd, sd = csu_kdp.calc_kdp_bringi(dp=dp, dz=dz, rng=rng2d/1000.0, thsd=12, gs=gs, window=3)\n",
    "\n",
    "    radar_T, radar_z = interpolate_sounding_to_radar(sounding, radar)\n",
    "\n",
    "    scores = csu_fhc.csu_fhc_summer(dz=dz, zdr=dr, rho=rh, kdp=kd, band='S', use_temp=True, T=radar_T)\n",
    "    fh = np.argmax(scores, axis=0) + 1\n",
    "\n",
    "    rain, method = csu_blended_rain.csu_hidro_rain(dz=dz, zdr=dr, kdp=kd, fhc=fh)\n",
    "    r_kdp = csu_blended_rain.calc_rain_kdp(kd, b=0.87)\n",
    "    r_z = csu_blended_rain.calc_rain_nexrad(dz)\n",
    "    r_kdp_zdr = csu_blended_rain.calc_rain_kdp_zdr(kd, dz)\n",
    "\n",
    "    radar = add_field_to_radar_object(rain, radar, field_name='rain', units='mm h-1',\n",
    "                                      long_name='HIDRO Rainfall Rate', \n",
    "                                      standard_name='Rainfall Rate')\n",
    "    radar = add_field_to_radar_object(method, radar, field_name='method', units='',\n",
    "                                      long_name='HIDRO Rainfall Method', \n",
    "                                      standard_name='Rainfall Method')\n",
    "    radar = add_field_to_radar_object(r_kdp, radar, field_name='r_kdp', units='mm h-1',  \n",
    "                                      long_name='Rainfall Rate R(Kdp)', \n",
    "                                      standard_name='Rainfall Rate')\n",
    "    radar = add_field_to_radar_object(r_z, radar, field_name='r_z', units='mm h-1',\n",
    "                                      long_name='Rainfall Rate R(Z)', \n",
    "                                      standard_name='Rainfall Rate')\n",
    "    radar = interpolate_radially(radar, 'rain', start_gate, end_gate)\n",
    "    radar = interpolate_radially(radar, 'r_kdp', start_gate, end_gate,\n",
    "                                 long_name='Interpolated Rain from KDP', standard_name='Rain_KDP')\n",
    "    radar = interpolate_radially(radar, 'r_z', start_gate, end_gate,\n",
    "                                 long_name='Interpolated Rain from NEXRAD Z', standard_name='Rain_Z')\n",
    "    return radar\n",
    "\n",
    "def find_x_y_displacement(radar, longitude, latitude):\n",
    "    \"\"\" Return the x and y displacement (in meters) from a radar location. \"\"\"\n",
    "    # longitude and latitude in degrees\n",
    "    lat_0 = radar.latitude['data'][0]\n",
    "    lon_0 = radar.longitude['data'][0]\n",
    "    proj = pyproj.Proj(proj='aeqd', lon_0=lon_0, lat_0=lat_0)\n",
    "    return proj(longitude, latitude)"
   ]
  }
 ],
 "metadata": {
  "kernelspec": {
   "display_name": "Python 2",
   "language": "python",
   "name": "python2"
  },
  "language_info": {
   "codemirror_mode": {
    "name": "ipython",
    "version": 2
   },
   "file_extension": ".py",
   "mimetype": "text/x-python",
   "name": "python",
   "nbconvert_exporter": "python",
   "pygments_lexer": "ipython2",
   "version": "2.7.12"
  }
 },
 "nbformat": 4,
 "nbformat_minor": 0
}
