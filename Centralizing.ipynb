{
 "cells": [
  {
   "cell_type": "code",
   "execution_count": 2,
   "metadata": {
    "collapsed": true
   },
   "outputs": [],
   "source": [
    "from radar import *\n",
    "from rain import *\n",
    "\n",
    "import matplotlib as mpl\n",
    "import cartopy.crs as ccrs\n",
    "import cartopy.io.shapereader as shpreader\n",
    "import matplotlib.pyplot as plt\n",
    "import cartopy.feature as cfeature\n",
    "import pandas as pd \n",
    "import numpy as np\n",
    "%matplotlib inline"
   ]
  },
  {
   "cell_type": "code",
   "execution_count": 11,
   "metadata": {
    "collapsed": true
   },
   "outputs": [],
   "source": [
    "TOP50 = pd.read_csv('../../Paper/TOP50_Events/TOP50_events_Charlotte.csv', parse_dates=[0,1])"
   ]
  },
  {
   "cell_type": "code",
   "execution_count": 38,
   "metadata": {
    "collapsed": false
   },
   "outputs": [
    {
     "name": "stdout",
     "output_type": "stream",
     "text": [
      "new instance of Radar object for: CHARLOTTE 2006-08\n"
     ]
    },
    {
     "data": {
      "image/png": "[encoded data removed]",
      "text/plain": [
       "<matplotlib.figure.Figure at 0x7f3e5200f6d0>"
      ]
     },
     "metadata": {},
     "output_type": "display_data"
    }
   ],
   "source": [
    "c = Radar('Charlotte', t=TOP50.t_begin[0], how='hdf5')\n",
    "centralized_difference(c, TOP50.t_begin[0], TOP50.t_end[0], cmap = plt.cm.get_cmap('bwr', 11))"
   ]
  },
  {
   "cell_type": "code",
   "execution_count": 31,
   "metadata": {
    "collapsed": false
   },
   "outputs": [],
   "source": [
    "def centralized_difference(c, t_start, t_end, r=15, buffer=16, save=False, **kwargs):\n",
    "    l =[]\n",
    "    ixy0 = buffer\n",
    "    ixyn = c.lat.shape[1]-buffer\n",
    "    it0 = c.time.get_loc(t_start)\n",
    "    itn = c.time.get_loc(t_end)\n",
    "    for ix in range(ixy0, ixyn):\n",
    "        for iy in range(ixy0, ixyn):\n",
    "            for it in range(it0, itn):\n",
    "                if c.box[it, iy, ix] > 0:\n",
    "                    l.append((c.box[it+1, iy-r:iy+r+1, ix-r:ix+r+1]-c.box[it, iy, ix]))\n",
    "\n",
    "    test = np.mean(np.array(l), axis=0)\n",
    "    if 'vmin' not in kwargs.keys():\n",
    "        peak = max(np.abs(np.min(test)), np.max(test))\n",
    "        kwargs.update(dict(vmin = -peak, vmax = peak))\n",
    "\n",
    "    ax = plt.axes(projection=ccrs.PlateCarree())\n",
    "    scat = ax.pcolor(c.lon[iy-r:iy+r+1, ix-r:ix+r+1], c.lat[iy-r:iy+r+1, ix-r:ix+r+1], test, **kwargs)\n",
    "    ax.scatter(c.lon[iy, ix], c.lat[iy, ix], edgecolor='white', facecolor='None')\n",
    "    plt.colorbar(scat);\n",
    "    if save:\n",
    "        plt.savefig(\"/home/jsignell/Paper/Notebooks/output/Centralized difference radius={r} ({t} storm).png\".format(r=r, t=t_start))"
   ]
  },
  {
   "cell_type": "code",
   "execution_count": 37,
   "metadata": {
    "collapsed": false
   },
   "outputs": [
    {
     "name": "stdout",
     "output_type": "stream",
     "text": [
      "new instance of Radar object for: CHARLOTTE 2006-08\n",
      "new instance of Radar object for: CHARLOTTE 2006-06\n",
      "new instance of Radar object for: CHARLOTTE 2003-07\n",
      "new instance of Radar object for: CHARLOTTE 2010-05\n",
      "new instance of Radar object for: CHARLOTTE 2010-08\n",
      "new instance of Radar object for: CHARLOTTE 2005-07\n",
      "new instance of Radar object for: CHARLOTTE 2014-05\n",
      "new instance of Radar object for: CHARLOTTE 2007-06\n",
      "new instance of Radar object for: CHARLOTTE 2014-07\n",
      "new instance of Radar object for: CHARLOTTE 2012-05\n"
     ]
    }
   ],
   "source": [
    "for n in range(0,10):\n",
    "    c = Radar('Charlotte', t=TOP50.t_begin[n], how='hdf5')\n",
    "\n",
    "    kwargs = dict(save=True, cmap = plt.cm.get_cmap('bwr', 11))\n",
    "    centralized_difference(c, TOP50.t_begin[n], TOP50.t_end[n], **kwargs)\n",
    "    plt.close()"
   ]
  },
  {
   "cell_type": "code",
   "execution_count": 5,
   "metadata": {
    "collapsed": false
   },
   "outputs": [
    {
     "name": "stderr",
     "output_type": "stream",
     "text": [
      "/home/jsignell/miniconda2/lib/python2.7/site-packages/numpy/lib/nanfunctions.py:675: RuntimeWarning: Mean of empty slice\n",
      "  warnings.warn(\"Mean of empty slice\", RuntimeWarning)\n"
     ]
    },
    {
     "data": {
      "image/png": "[encoded data removed]",
      "text/plain": [
       "<matplotlib.figure.Figure at 0x7f3e846e8c50>"
      ]
     },
     "metadata": {},
     "output_type": "display_data"
    }
   ],
   "source": [
    "plt.figure(figsize=(14,4))\n",
    "plt.plot(c.time[2832:], np.nanmean(c.box, axis=(1,2))[2832:]);"
   ]
  }
 ],
 "metadata": {
  "kernelspec": {
   "display_name": "Python 2",
   "language": "python",
   "name": "python2"
  },
  "language_info": {
   "codemirror_mode": {
    "name": "ipython",
    "version": 2
   },
   "file_extension": ".py",
   "mimetype": "text/x-python",
   "name": "python",
   "nbconvert_exporter": "python",
   "pygments_lexer": "ipython2",
   "version": "2.7.11"
  }
 },
 "nbformat": 4,
 "nbformat_minor": 0
}
