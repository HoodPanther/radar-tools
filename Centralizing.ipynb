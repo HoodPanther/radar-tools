{
 "cells": [
  {
   "cell_type": "code",
   "execution_count": 1,
   "metadata": {
    "collapsed": true
   },
   "outputs": [],
   "source": [
    "import matplotlib.pyplot as plt\n",
    "import cartopy.crs as ccrs\n",
    "from radar import *\n",
    "\n",
    "plt.style.use('ggplot')\n",
    "%matplotlib inline"
   ]
  },
  {
   "cell_type": "code",
   "execution_count": 2,
   "metadata": {
    "collapsed": true
   },
   "outputs": [],
   "source": [
    "TOP50 = pd.read_csv('../../Paper/TOP50_Events/TOP50_events_Charlotte.csv', parse_dates=[0,1])"
   ]
  },
  {
   "cell_type": "code",
   "execution_count": 3,
   "metadata": {
    "collapsed": false
   },
   "outputs": [],
   "source": [
    "c = Radar('charlotte', TOP50.t_begin[0], how='hdf5', store='TOP50.h5', fname='storm_{yyyy}_{mm:02d}_{dd:02d}')"
   ]
  },
  {
   "cell_type": "code",
   "execution_count": 11,
   "metadata": {
    "collapsed": false
   },
   "outputs": [
    {
     "data": {
      "text/plain": [
       "<matplotlib.colorbar.Colorbar at 0x7f42aa70d7d0>"
      ]
     },
     "execution_count": 11,
     "metadata": {},
     "output_type": "execute_result"
    },
    {
     "data": {
      "image/png": "[encoded data removed]",
      "text/plain": [
       "<matplotlib.figure.Figure at 0x7f42b2f05390>"
      ]
     },
     "metadata": {},
     "output_type": "display_data"
    }
   ],
   "source": [
    "scat, ax = centralized_difference(c, '2006-08-30 19:00', '2006-08-31 02:00', cmap = plt.cm.get_cmap('RdBu', 11))\n",
    "plt.colorbar(scat, ax=ax)"
   ]
  },
  {
   "cell_type": "code",
   "execution_count": 18,
   "metadata": {
    "collapsed": false
   },
   "outputs": [
    {
     "data": {
      "image/png": "[encoded data removed]",
      "text/plain": [
       "<matplotlib.figure.Figure at 0x7f42aa8492d0>"
      ]
     },
     "metadata": {},
     "output_type": "display_data"
    }
   ],
   "source": [
    "fig = plt.figure(figsize=(16,4))\n",
    "axes = []\n",
    "for n in range(0,4):\n",
    "    c = Radar('charlotte', TOP50.t_begin[n], how='hdf5', store='TOP50.h5', fname='storm_{yyyy}_{mm:02d}_{dd:02d}')\n",
    "    scat, ax = centralized_difference(c, nrows=1, ncols=4, n=n+1, cmap = plt.cm.get_cmap('RdBu', 11))"
   ]
  },
  {
   "cell_type": "code",
   "execution_count": 15,
   "metadata": {
    "collapsed": false
   },
   "outputs": [],
   "source": [
    "def centralized_difference(self, t_start=None, t_end=None, radius=15, buffer=20, save=False, **kwargs):\n",
    "    l =[]\n",
    "    if radius+3 < buffer:\n",
    "        r=radius+3\n",
    "    else:\n",
    "        r=buffer\n",
    "    ixy0 = buffer\n",
    "    ixyn = self.lat.shape[1]-buffer\n",
    "    try:\n",
    "        it0 = self.time.get_loc(t_start)\n",
    "        itn = self.time.get_loc(t_end)\n",
    "    except:\n",
    "        it0 = 0\n",
    "        itn = self.time.shape[0]-2\n",
    "    for ix in range(ixy0, ixyn):\n",
    "        for iy in range(ixy0, ixyn):\n",
    "            for it in range(it0, itn):\n",
    "                if self.box[it, iy, ix] > 0:\n",
    "                    l.append((self.box[it+1, iy-r:iy+r+1, ix-r:ix+r+1]-self.box[it, iy, ix]))\n",
    "\n",
    "    test = np.mean(np.array(l), axis=0)\n",
    "    if 'vmin' not in kwargs.keys():\n",
    "        peak = max(np.abs(np.min(test[r-radius:radius+r, r-radius:radius+r])), \n",
    "                   np.max(test[r-radius:radius+r, r-radius:radius+r]))\n",
    "        kwargs.update(dict(vmin = -peak, vmax = peak))\n",
    "    if 'nrows' in kwargs.keys():\n",
    "        nrows = kwargs.pop('nrows')\n",
    "        ncols = kwargs.pop('ncols')\n",
    "        n = kwargs.pop('n')\n",
    "    else:\n",
    "        nrows = ncols = n = 1\n",
    "    ax = plt.subplot(nrows, ncols, n, projection=ccrs.PlateCarree())\n",
    "\n",
    "    scat = ax.pcolor(self.lon[iy-r:iy+r+1, ix-r:ix+r+1], self.lat[iy-r:iy+r+1, ix-r:ix+r+1], test, **kwargs)\n",
    "    ax.set_extent([self.lon[iy, ix-radius], self.lon[iy, ix+radius], self.lat[iy-radius, ix], self.lat[iy+radius, ix]])\n",
    "    ax.scatter(self.lon[iy, ix], self.lat[iy, ix], edgecolor='white', facecolor='None')\n",
    "    return(scat, ax)"
   ]
  },
  {
   "cell_type": "code",
   "execution_count": null,
   "metadata": {
    "collapsed": true
   },
   "outputs": [],
   "source": []
  }
 ],
 "metadata": {
  "kernelspec": {
   "display_name": "Python 2",
   "language": "python",
   "name": "python2"
  },
  "language_info": {
   "codemirror_mode": {
    "name": "ipython",
    "version": 2
   },
   "file_extension": ".py",
   "mimetype": "text/x-python",
   "name": "python",
   "nbconvert_exporter": "python",
   "pygments_lexer": "ipython2",
   "version": "2.7.11"
  }
 },
 "nbformat": 4,
 "nbformat_minor": 0
}
