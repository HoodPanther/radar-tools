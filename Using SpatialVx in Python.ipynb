{
 "cells": [
  {
   "cell_type": "code",
   "execution_count": 12,
   "metadata": {
    "collapsed": true
   },
   "outputs": [],
   "source": [
    "import pandas as pd\n",
    "from radar import Radar"
   ]
  },
  {
   "cell_type": "code",
   "execution_count": 23,
   "metadata": {
    "collapsed": false
   },
   "outputs": [],
   "source": [
    "city='CHARLOTTE'\n",
    "TOP50 = pd.read_csv('{c}/TOP50_events.csv'.format(c=city), parse_dates=[0,1])"
   ]
  },
  {
   "cell_type": "code",
   "execution_count": null,
   "metadata": {
    "collapsed": false
   },
   "outputs": [],
   "source": [
    "d = {}\n",
    "for n in range(50):\n",
    "    c = Radar(city, TOP50.t_begin[n], make_rate=4, how='hdf5', store='{c}/TOP50.h5')\n",
    "    d = c.get_features(d=d, return_dict=True)\n",
    "p = pd.Panel(d)"
   ]
  },
  {
   "cell_type": "code",
   "execution_count": null,
   "metadata": {
    "collapsed": true
   },
   "outputs": [],
   "source": [
    "computed = pd.HDFStore('{c}/computed.h5'.format(c=city))\n",
    "computed['features_buffer0_ratethresh10_minarea20_cont20'] = p\n",
    "computed.close()"
   ]
  },
  {
   "cell_type": "code",
   "execution_count": null,
   "metadata": {
    "collapsed": true
   },
   "outputs": [],
   "source": [
    "p = c.add_buffer(p)"
   ]
  },
  {
   "cell_type": "code",
   "execution_count": null,
   "metadata": {
    "collapsed": true
   },
   "outputs": [],
   "source": [
    "computed = pd.HDFStore('{c}/computed.h5'.format(c=city))\n",
    "computed['features_buffered_ratethresh10_minarea20_cont20'] = p\n",
    "computed.close()"
   ]
  }
 ],
 "metadata": {
  "kernelspec": {
   "display_name": "Python 2",
   "language": "python",
   "name": "python2"
  },
  "language_info": {
   "codemirror_mode": {
    "name": "ipython",
    "version": 2
   },
   "file_extension": ".py",
   "mimetype": "text/x-python",
   "name": "python",
   "nbconvert_exporter": "python",
   "pygments_lexer": "ipython2",
   "version": "2.7.11"
  }
 },
 "nbformat": 4,
 "nbformat_minor": 0
}
