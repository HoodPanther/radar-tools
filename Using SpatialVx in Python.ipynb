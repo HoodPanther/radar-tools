{
 "cells": [
  {
   "cell_type": "code",
   "execution_count": 1,
   "metadata": {
    "collapsed": true
   },
   "outputs": [],
   "source": [
    "from radar import *\n",
    "from rain import *\n",
    "\n",
    "import matplotlib as mpl\n",
    "import cartopy.crs as ccrs\n",
    "import cartopy.io.shapereader as shpreader\n",
    "import matplotlib.pyplot as plt\n",
    "import cartopy.feature as cfeature\n",
    "import seaborn as sbn\n",
    "import pandas as pd \n",
    "import numpy as np\n",
    "\n",
    "%matplotlib inline"
   ]
  },
  {
   "cell_type": "code",
   "execution_count": 2,
   "metadata": {
    "collapsed": false
   },
   "outputs": [],
   "source": [
    "TOP50 = pd.read_csv('../../Paper/TOP50_Events/TOP50_events_Charlotte.csv', parse_dates=[0,1])"
   ]
  },
  {
   "cell_type": "code",
   "execution_count": 4,
   "metadata": {
    "collapsed": false
   },
   "outputs": [],
   "source": [
    "from rpy2 import robjects \n",
    "from rpy2.robjects.packages import importr\n",
    "from rpy2.robjects import pandas2ri\n",
    "pandas2ri.activate()\n",
    "SpatialVx = importr('SpatialVx')\n",
    "rsummary = robjects.r.summary"
   ]
  },
  {
   "cell_type": "code",
   "execution_count": 636,
   "metadata": {
    "collapsed": true
   },
   "outputs": [],
   "source": [
    "d={}"
   ]
  },
  {
   "cell_type": "code",
   "execution_count": 638,
   "metadata": {
    "collapsed": false
   },
   "outputs": [],
   "source": [
    "for i in range(0, 50):\n",
    "    c = Radar('charlotte', TOP50.t_begin[i], how='hdf5', store='TOP50.h5', fname='storm_{yyyy}_{mm:02d}_{dd:02d}', make_rate=4)\n",
    "    d = get_features(c, d)\n",
    "p = pd.Panel(d)"
   ]
  },
  {
   "cell_type": "code",
   "execution_count": 639,
   "metadata": {
    "collapsed": true
   },
   "outputs": [],
   "source": [
    "computed = pd.HDFStore('computed.h5')\n",
    "computed['features_buffer0_ratethresh10_minarea20_cont20'] = p\n",
    "computed.close()"
   ]
  },
  {
   "cell_type": "code",
   "execution_count": 635,
   "metadata": {
    "collapsed": true
   },
   "outputs": [],
   "source": [
    "def get_features(c, d):\n",
    "    # using no buffer\n",
    "    ix0 = 0\n",
    "    ixn = 140\n",
    "    iy0 = 0\n",
    "    iyn = 140\n",
    "    ll = np.array([c.lon[ix0:ixn,iy0:iyn].flatten('F'), c.lat[ix0:ixn,iy0:iyn].flatten('F')]).T\n",
    "    for i in range(c.box.shape[0]-1):\n",
    "        hold = SpatialVx.make_SpatialVx(c.box[i,ix0:ixn,iy0:iyn], c.box[i+1,ix0:ixn,iy0:iyn], loc=ll)\n",
    "        kwargs ={''}\n",
    "        look = SpatialVx.FeatureFinder(hold, smoothpar=2, thresh=10, min_size=20)\n",
    "\n",
    "        try:\n",
    "            x = rsummary(look, silent=True)[0]\n",
    "        except:\n",
    "            continue\n",
    "        px = pandas2ri.ri2py(x)\n",
    "        df0 = pd.DataFrame(px, columns=['centroidX', 'centroidY', 'area', 'OrientationAngle', \n",
    "                                      'AspectRatio', 'Intensity0.25', 'Intensity0.9'])\n",
    "        df0['Observed'] = list(df0.index+1)\n",
    "        m = SpatialVx.centmatch(look, criteria=3, const=20)\n",
    "        p = pandas2ri.ri2py(m[12])\n",
    "        df1 = pd.DataFrame(p, columns=['Forecast', 'Observed'])\n",
    "        l = SpatialVx.FeatureMatchAnalyzer(m)\n",
    "        try:\n",
    "            p = pandas2ri.ri2py(rsummary(l, silent=True))\n",
    "        except:\n",
    "            continue\n",
    "        df2 = pd.DataFrame(p, columns=['Partial Hausdorff Distance','Mean Error Distance','Mean Square Error Distance',\n",
    "                                      'Pratts Figure of Merit','Minimum Separation Distance', 'Centroid Distance',\n",
    "                                      'Angle Difference','Area Ratio','Intersection Area','Bearing', 'Baddeleys Delta Metric',\n",
    "                                      'Hausdorff Distance'])\n",
    "        df3 = df1.join(df2)\n",
    "\n",
    "        d.update({c.time[i]: pd.merge(df0, df3, how='outer')})\n",
    "    '''    \n",
    "    for k, v in d.items():\n",
    "        v['lat']=np.nan\n",
    "        v['lon']=np.nan\n",
    "        for i in v.index:\n",
    "            idX = int(np.round(v.centroidX[i]))\n",
    "            idY = int(np.round(v.centroidY[i]))\n",
    "            v.set_value(i, 'lat', c.lat[idX, idY])\n",
    "            v.set_value(i, 'lon', c.lon[idX, idY])\n",
    "    '''\n",
    "    return(d)\n",
    "    "
   ]
  },
  {
   "cell_type": "code",
   "execution_count": 365,
   "metadata": {
    "collapsed": false
   },
   "outputs": [],
   "source": [
    "%matplotlib inline\n",
    "import matplotlib as mpl\n",
    "import cartopy.crs as ccrs\n",
    "import cartopy.io.shapereader as shpreader\n",
    "import matplotlib.pyplot as plt\n",
    "import cartopy.feature as cfeature\n",
    "import pandas as pd \n",
    "import numpy as np\n",
    "\n",
    "large_extent = [-82, -80, 34.5, 36]\n",
    "small_extent = [-81.035000-.01, -80.552222+.01, 35.019722-.01, 35.507778+.01]\n",
    "\n",
    "fname = '../../data/CHARLOTTE/Maps/new_basin.shp'\n",
    "basins = list(shpreader.Reader(fname).geometries())\n",
    "\n",
    "fname = '../../data/CHARLOTTE/Maps/county.shp'\n",
    "county = list(shpreader.Reader(fname).geometries())\n",
    "\n",
    "cmap = plt.cm.get_cmap('jet', 10)\n",
    "cmap.set_under(color='None')\n",
    "\n",
    "\n",
    "def radar_map(radar, feat=False, save=False, storm_mean=False, t_end=None, nrows=1, ncols=1, n=1, **kwargs):\n",
    "    ax = plt.subplot(nrows, ncols, n, projection=ccrs.PlateCarree())\n",
    "\n",
    "    ax.set_title(radar.t)\n",
    "    i = radar.time.get_loc(radar.t)\n",
    "    ax.add_geometries(basins, ccrs.PlateCarree(), edgecolor='black', facecolor='None')\n",
    "    ax.add_geometries(county, ccrs.PlateCarree(), edgecolor='gray', facecolor='None')\n",
    "    #ax.set_extent(small_extent, ccrs.PlateCarree())\n",
    "    \n",
    "    if storm_mean:\n",
    "        scat = ax.pcolor(radar.lon, radar.lat, radar.box.mean(0),cmap=cmap, alpha=.7)\n",
    "        plt.colorbar(scat, fraction=0.05)\n",
    "    else:\n",
    "        scat = ax.pcolor(radar.lon, radar.lat, radar.box[i,:,:], vmin=.1, vmax=100, cmap=cmap)\n",
    "    if feat:\n",
    "        try:\n",
    "            #ax.scatter(p[radar.t].lon, p[radar.t].lat, c='black',s=200)\n",
    "            ax.scatter(p[radar.t].centroidX, p[radar.t].centroidY, c='black',s=100)\n",
    "        except:\n",
    "            print 'no features found'\n",
    "            pass\n",
    "    if 'at' in kwargs:\n",
    "        if 'colors' in kwargs:\n",
    "            color=kwargs['colors']\n",
    "        else:\n",
    "            color='black'\n",
    "        ax.scatter(x=kwargs['at'][0], y=kwargs['at'][1], c=color,s=100)\n",
    "    return(scat, ax)"
   ]
  }
 ],
 "metadata": {
  "kernelspec": {
   "display_name": "Python 2",
   "language": "python",
   "name": "python2"
  },
  "language_info": {
   "codemirror_mode": {
    "name": "ipython",
    "version": 2
   },
   "file_extension": ".py",
   "mimetype": "text/x-python",
   "name": "python",
   "nbconvert_exporter": "python",
   "pygments_lexer": "ipython2",
   "version": "2.7.11"
  }
 },
 "nbformat": 4,
 "nbformat_minor": 0
}
